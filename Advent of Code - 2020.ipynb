{
 "cells": [
  {
   "cell_type": "code",
   "execution_count": 1,
   "metadata": {},
   "outputs": [],
   "source": [
    "INPUTS_FOLDER = 'C:/Users/atlse/Downloads/Advent of Code'"
   ]
  },
  {
   "cell_type": "code",
   "execution_count": 18,
   "metadata": {},
   "outputs": [
    {
     "name": "stdout",
     "output_type": "stream",
     "text": [
      "Value 1: 1945, Value 2: 75, Product: 145875\n"
     ]
    }
   ],
   "source": [
    "# Day 1 - Part 1\n",
    "values = [int(value) for value in open(f'{INPUTS_FOLDER}/day_1.txt', 'r').readlines()]\n",
    "\n",
    "def pair_values(target_sum, selection):\n",
    "    seen = set()\n",
    "    for value in selection:\n",
    "        if (target_sum - value) in seen:\n",
    "            return (value, target_sum - value)\n",
    "        \n",
    "        seen.add(value)\n",
    "        \n",
    "(value_1, value_2) = pair_values(2020, values)\n",
    "print(f'Value 1: {value_1}, Value 2: {value_2}, Product: {value_1 * value_2}')"
   ]
  },
  {
   "cell_type": "code",
   "execution_count": 22,
   "metadata": {},
   "outputs": [
    {
     "name": "stdout",
     "output_type": "stream",
     "text": [
      "Value 1: 74, Value 2: 1052, Value 3: 894, Product: 69596112\n"
     ]
    }
   ],
   "source": [
    "# Day 1 - Part 2\n",
    "seen = set()\n",
    "for value in values:\n",
    "    resp = pair_values(target_sum - value, seen)\n",
    "    if resp != None:\n",
    "        (value_1, value_2) = resp\n",
    "        print(f'Value 1: {value_1}, Value 2: {value_2}, Value 3: {value}, Product: {value * value_1 * value_2}')\n",
    "              \n",
    "    seen.add(value)"
   ]
  },
  {
   "cell_type": "code",
   "execution_count": 28,
   "metadata": {},
   "outputs": [
    {
     "name": "stdout",
     "output_type": "stream",
     "text": [
      "418\n"
     ]
    }
   ],
   "source": [
    "# Day 2 - Part 1\n",
    "password_entries = [_ for _ in open(f'{INPUTS_FOLDER}/day_2.txt','r').readlines()]\n",
    "\n",
    "import re\n",
    "entry_regex = re.compile('(\\d+)-(\\d+) (\\w): (\\w+)')\n",
    "valid_passwords = 0\n",
    "for entry in password_entries:\n",
    "    min_count, max_count, letter, password = entry_regex.match(entry).groups()\n",
    "    min_count, max_count = int(min_count), int(max_count)\n",
    "    letter_count = password.count(letter)\n",
    "    if letter_count >= min_count and letter_count <= max_count:\n",
    "        valid_passwords += 1\n",
    "        \n",
    "print(valid_passwords)"
   ]
  },
  {
   "cell_type": "code",
   "execution_count": 32,
   "metadata": {},
   "outputs": [
    {
     "name": "stdout",
     "output_type": "stream",
     "text": [
      "616\n"
     ]
    }
   ],
   "source": [
    "# Day 2 - Part 2\n",
    "password_entries = [_ for _ in open(f'{INPUTS_FOLDER}/day_2.txt','r').readlines()]\n",
    "\n",
    "import re\n",
    "entry_regex = re.compile('(\\d+)-(\\d+) (\\w): (\\w+)')\n",
    "valid_passwords = 0\n",
    "for entry in password_entries:\n",
    "    first_index, second_index, letter, password = entry_regex.match(entry).groups()\n",
    "    first_index, second_index = int(first_index), int(second_index)\n",
    "    if (password[first_index-1] == letter) ^ (password[second_index-1] == letter):\n",
    "        valid_passwords += 1\n",
    "        \n",
    "print(valid_passwords)"
   ]
  },
  {
   "cell_type": "code",
   "execution_count": 37,
   "metadata": {},
   "outputs": [
    {
     "name": "stdout",
     "output_type": "stream",
     "text": [
      "145\n"
     ]
    }
   ],
   "source": [
    "# Day 3 - Part 1\n",
    "tree_lines = [_.strip() for _ in open(f'{INPUTS_FOLDER}/day_3.txt','r').readlines()]\n",
    "row = 0\n",
    "trees_encountered = 0\n",
    "while row < len(tree_lines):\n",
    "    row_length = len(tree_lines[row])\n",
    "    if tree_lines[row][(row * 3) % row_length] == '#':\n",
    "        trees_encountered += 1\n",
    "    row+=1\n",
    "    \n",
    "print(trees_encountered)"
   ]
  },
  {
   "cell_type": "code",
   "execution_count": 44,
   "metadata": {},
   "outputs": [
    {
     "name": "stdout",
     "output_type": "stream",
     "text": [
      "3424528800\n"
     ]
    }
   ],
   "source": [
    "# Day 3 - Part 2\n",
    "tree_lines = [_.strip() for _ in open(f'{INPUTS_FOLDER}/day_3.txt','r').readlines()]\n",
    "row = 0\n",
    "trees_encountered_1 = 0\n",
    "trees_encountered_2 = 0\n",
    "trees_encountered_3 = 0\n",
    "trees_encountered_4 = 0\n",
    "trees_encountered_5 = 0\n",
    "while row < len(tree_lines):\n",
    "    row_length = len(tree_lines[row])\n",
    "    if tree_lines[row][row % row_length] == '#':\n",
    "        trees_encountered_1 += 1\n",
    "    if tree_lines[row][(row * 3) % row_length] == '#':\n",
    "        trees_encountered_2 += 1\n",
    "    if tree_lines[row][(row * 5) % row_length] == '#':\n",
    "        trees_encountered_3 += 1\n",
    "    if tree_lines[row][(row * 7) % row_length] == '#':\n",
    "        trees_encountered_4 += 1\n",
    "    if row % 2 == 0 and tree_lines[row][int(row/2) % row_length] == '#':\n",
    "        trees_encountered_5 += 1\n",
    "    row+=1\n",
    "    \n",
    "print(trees_encountered_1 * trees_encountered_2 * trees_encountered_3 * trees_encountered_4 * trees_encountered_5)"
   ]
  },
  {
   "cell_type": "code",
   "execution_count": 48,
   "metadata": {},
   "outputs": [
    {
     "name": "stdout",
     "output_type": "stream",
     "text": [
      "206\n"
     ]
    }
   ],
   "source": [
    "# Day 4 - Part 1\n",
    "entries = open(f'{INPUTS_FOLDER}/day_4.txt').read().split('\\n\\n')\n",
    "\n",
    "required_keys = ['byr', \n",
    "                 'iyr', \n",
    "                 'eyr',\n",
    "                 'hgt',\n",
    "                 'hcl',\n",
    "                 'ecl',\n",
    "                 'pid']\n",
    "\n",
    "valid_passports = 0\n",
    "for entry in entries:\n",
    "    single_entry = \" \".join(entry.split('\\n'))\n",
    "    \n",
    "    had_all_keys = True\n",
    "    for key in required_keys:\n",
    "        if key + \":\" not in single_entry:\n",
    "            had_all_keys = False\n",
    "            break\n",
    "            \n",
    "    if had_all_keys:\n",
    "        valid_passports += 1\n",
    "    \n",
    "print(valid_passports)"
   ]
  },
  {
   "cell_type": "code",
   "execution_count": 91,
   "metadata": {},
   "outputs": [
    {
     "name": "stdout",
     "output_type": "stream",
     "text": [
      "123\n"
     ]
    }
   ],
   "source": [
    "# Day 4 - Part 2\n",
    "\n",
    "# byr (Birth Year) - four digits; at least 1920 and at most 2002.\n",
    "# iyr (Issue Year) - four digits; at least 2010 and at most 2020.\n",
    "# eyr (Expiration Year) - four digits; at least 2020 and at most 2030.\n",
    "# hgt (Height) - a number followed by either cm or in:\n",
    "# If cm, the number must be at least 150 and at most 193.\n",
    "# If in, the number must be at least 59 and at most 76.\n",
    "# hcl (Hair Color) - a # followed by exactly six characters 0-9 or a-f.\n",
    "# ecl (Eye Color) - exactly one of: amb blu brn gry grn hzl oth.\n",
    "# pid (Passport ID) - a nine-digit number, including leading zeroes.\n",
    "# cid (Country ID) - ignored, missing or not.\n",
    "\n",
    "entries = open(f'{INPUTS_FOLDER}/day_4.txt').read().split('\\n\\n')\n",
    "\n",
    "import re\n",
    "from collections import defaultdict\n",
    "\n",
    "required_keys = {'byr': re.compile('^19[2-9]\\d|200[0-2]$'),\n",
    "                 'iyr': re.compile('^20(1\\d|20)$'),\n",
    "                 'eyr': re.compile('^20(2\\d|30)$'),\n",
    "                 'hgt': re.compile('^(1([5-8]\\d|9[0-3])cm)|((59|6\\d|7[0-6])in)$'),\n",
    "                 'hcl': re.compile('^#[0-9a-f]{6}$'),\n",
    "                 'ecl': re.compile('^amb|blu|brn|gry|grn|hzl|oth$'),\n",
    "                 'pid': re.compile('^\\d{9}$')}\n",
    "                 \n",
    "\n",
    "valid_passports = 0\n",
    "for entry in entries:\n",
    "    single_entry = \" \".join(entry.split('\\n'))\n",
    "    aspects = list(map(lambda x: x.split(':'), single_entry.split(' ')))\n",
    "    entries_map = {val[0]:val[1] for val in aspects if len(val) == 2}\n",
    "    \n",
    "    had_all_keys = True\n",
    "    for key in required_keys:\n",
    "        if key + \":\" not in single_entry:\n",
    "            had_all_keys = False\n",
    "            break\n",
    "        if not required_keys[key].match(entries_map[key]):\n",
    "            had_all_keys = False\n",
    "            break\n",
    "            \n",
    "    if had_all_keys:\n",
    "        valid_passports += 1\n",
    "        \n",
    "print(valid_passports)"
   ]
  },
  {
   "cell_type": "code",
   "execution_count": 93,
   "metadata": {},
   "outputs": [
    {
     "name": "stdout",
     "output_type": "stream",
     "text": [
      "996\n"
     ]
    }
   ],
   "source": [
    "# Day 5 - Part 1\n",
    "passes = [_.strip() for _ in open(f'{INPUTS_FOLDER}/day_5.txt','r').readlines()]\n",
    "\n",
    "highest_id = 0\n",
    "\n",
    "def gen_id(entry):    \n",
    "    \"\"\"You don't need to multiply the first 7 by 8 and add the last 3. If you just translate\n",
    "    entire string to binary, the first half is shifted left by 3 bits (multiply by 8)\"\"\"\n",
    "    return int(entry.replace('F','0').replace('B','1').replace('L','0').replace('R','1'), 2)\n",
    "\n",
    "for val in passes:    \n",
    "    current_id = gen_id(val)\n",
    "    \n",
    "    if current_id > highest_id:\n",
    "        highest_id = current_id\n",
    "        \n",
    "print(highest_id)"
   ]
  },
  {
   "cell_type": "code",
   "execution_count": 97,
   "metadata": {},
   "outputs": [
    {
     "name": "stdout",
     "output_type": "stream",
     "text": [
      "671\n"
     ]
    }
   ],
   "source": [
    "# Day 5 - Part 2\n",
    "passes = [_.strip() for _ in open(f'{INPUTS_FOLDER}/day_5.txt','r').readlines()]\n",
    "\n",
    "seen_ids = []\n",
    "\n",
    "def gen_id(entry):    \n",
    "    \"\"\"You don't need to multiply the first 7 by 8 and add the last 3. If you just translate\n",
    "    entire string to binary, the first half is shifted left by 3 bits (multiply by 8)\"\"\"\n",
    "    return int(entry.replace('F','0').replace('B','1').replace('L','0').replace('R','1'), 2)\n",
    "\n",
    "for val in passes:    \n",
    "    seen_ids.append(gen_id(val))\n",
    "    \n",
    "seen_ids.sort()\n",
    "\n",
    "for i in range(len(seen_ids)):\n",
    "    if seen_ids[i+1] != seen_ids[i] + 1:\n",
    "        print(seen_ids[i] + 1)\n",
    "        break"
   ]
  },
  {
   "cell_type": "code",
   "execution_count": 8,
   "metadata": {},
   "outputs": [
    {
     "name": "stdout",
     "output_type": "stream",
     "text": [
      "6911\n"
     ]
    }
   ],
   "source": [
    "# Day 6 - Part 1\n",
    "inputs = [_ for _ in open(f'{INPUTS_FOLDER}/day_6.txt').read().split('\\n\\n')]\n",
    "\n",
    "lengths_sum = 0\n",
    "\n",
    "for single_input in inputs:\n",
    "    answers = set()\n",
    "    for line in single_input:\n",
    "        line = line.strip()\n",
    "        for char in line:\n",
    "            answers.add(char)\n",
    "    lengths_sum += len(answers)\n",
    "    \n",
    "print(lengths_sum)"
   ]
  },
  {
   "cell_type": "code",
   "execution_count": 18,
   "metadata": {},
   "outputs": [
    {
     "name": "stdout",
     "output_type": "stream",
     "text": [
      "3473\n"
     ]
    }
   ],
   "source": [
    "# Day 6 - Part 2\n",
    "inputs = [_ for _ in open(f'{INPUTS_FOLDER}/day_6.txt').read().split('\\n\\n')]\n",
    "\n",
    "lengths_sum = 0\n",
    "\n",
    "for single_input in inputs:\n",
    "    inputs_by_person = single_input.split('\\n')\n",
    "    same_letters = set()\n",
    "    \n",
    "    same_letters.update([_ for _ in inputs_by_person[0]])\n",
    "    \n",
    "    for i in range(1, len(inputs_by_person)):\n",
    "        person_input = [_ for _ in inputs_by_person[i]]\n",
    "        same_letters = same_letters & set(person_input)\n",
    "        if len(same_letters) == 0:\n",
    "            break\n",
    "    \n",
    "    lengths_sum += len(same_letters)\n",
    "        \n",
    "print(lengths_sum)"
   ]
  },
  {
   "cell_type": "code",
   "execution_count": 51,
   "metadata": {},
   "outputs": [
    {
     "name": "stdout",
     "output_type": "stream",
     "text": [
      "211\n"
     ]
    }
   ],
   "source": [
    "# Day 7 - Part 1\n",
    "rules = [_.strip() for _ in open(f'{INPUTS_FOLDER}/day_7.txt').readlines()]\n",
    "\n",
    "import re\n",
    "\n",
    "PARENT_BAG = 'shiny gold'\n",
    "\n",
    "rule_parser = re.compile('^(.+) bags contain (.+)$')\n",
    "inner_parser = re.compile('^\\s?(\\d+) (.+) bags?\\.?$')\n",
    "\n",
    "bag_map = dict()\n",
    "for rule in rules:\n",
    "    parsed = rule_parser.match(rule)\n",
    "    \n",
    "    inner_bags = parsed.group(2).split(',')\n",
    "    \n",
    "    inners = []\n",
    "    for inner_bag in inner_bags:\n",
    "        result = inner_parser.match(inner_bag)\n",
    "        if result:\n",
    "            inners += [result.group(2)] * int(result.group(1))\n",
    "    \n",
    "    bag_map[parsed.group(1)] = inners\n",
    "\n",
    "\n",
    "unexplored_bags = set([PARENT_BAG])\n",
    "explored_bags = set()\n",
    "containing_bags = set()\n",
    "\n",
    "while unexplored_bags:\n",
    "    next_to_explore = unexplored_bags.pop()\n",
    "    explored_bags.add(next_to_explore)\n",
    "    \n",
    "    for bag, contents in bag_map.items():\n",
    "        if next_to_explore in contents and bag not in containing_bags:\n",
    "            containing_bags.add(bag)\n",
    "            if bag not in unexplored_bags:\n",
    "                unexplored_bags.add(bag)\n",
    "                \n",
    "\n",
    "print(len(containing_bags))"
   ]
  },
  {
   "cell_type": "code",
   "execution_count": 91,
   "metadata": {},
   "outputs": [
    {
     "name": "stdout",
     "output_type": "stream",
     "text": [
      "12414\n"
     ]
    }
   ],
   "source": [
    "# Day 7 - Part 2\n",
    "rules = [_.strip() for _ in open(f'{INPUTS_FOLDER}/day_7.txt').readlines()]\n",
    "\n",
    "import re\n",
    "\n",
    "PARENT_BAG = 'shiny gold'\n",
    "\n",
    "rule_parser = re.compile('^(.+) bags contain (.+)$')\n",
    "inner_parser = re.compile('^\\s?(\\d+) (.+) bags?\\.?$')\n",
    "\n",
    "bag_map = dict()\n",
    "for rule in rules:\n",
    "    parsed = rule_parser.match(rule)\n",
    "    \n",
    "    inner_bags = parsed.group(2).split(',')\n",
    "    \n",
    "    inners = []\n",
    "    for inner_bag in inner_bags:\n",
    "        result = inner_parser.match(inner_bag)\n",
    "        if result:\n",
    "            inners += [result.group(2)] * int(result.group(1))\n",
    "    \n",
    "    bag_map[parsed.group(1)] = inners\n",
    "\n",
    "def bags_contained_within(bag):\n",
    "    if len(bag_map[bag]) == 0:\n",
    "        return 0\n",
    "    else:\n",
    "        size = sum([bags_contained_within(child) for child in bag_map[bag]]) + len(bag_map[bag])\n",
    "        return size\n",
    "    \n",
    "print(bags_contained_within(PARENT_BAG))"
   ]
  },
  {
   "cell_type": "code",
   "execution_count": null,
   "metadata": {},
   "outputs": [],
   "source": [
    "# Day 8 - Part 1"
   ]
  },
  {
   "cell_type": "code",
   "execution_count": null,
   "metadata": {},
   "outputs": [],
   "source": [
    "# Day 8 - Part 2"
   ]
  }
 ],
 "metadata": {
  "kernelspec": {
   "display_name": "Python 3",
   "language": "python",
   "name": "python3"
  },
  "language_info": {
   "codemirror_mode": {
    "name": "ipython",
    "version": 3
   },
   "file_extension": ".py",
   "mimetype": "text/x-python",
   "name": "python",
   "nbconvert_exporter": "python",
   "pygments_lexer": "ipython3",
   "version": "3.6.5"
  }
 },
 "nbformat": 4,
 "nbformat_minor": 2
}
